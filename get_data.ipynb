{
 "cells": [
  {
   "cell_type": "code",
   "execution_count": 1,
   "metadata": {
    "collapsed": false
   },
   "outputs": [
    {
     "name": "stderr",
     "output_type": "stream",
     "text": [
      "ERROR:root:Line magic function `%wget` not found.\n"
     ]
    },
    {
     "name": "stdout",
     "output_type": "stream",
     "text": [
      "/home/ubuntu/nbs/youtube_comments/data\n"
     ]
    }
   ],
   "source": [
    "%mkdir data\n",
    "%cd data"
   ]
  },
  {
   "cell_type": "code",
   "execution_count": 5,
   "metadata": {
    "collapsed": false
   },
   "outputs": [
    {
     "name": "stdout",
     "output_type": "stream",
     "text": [
      "--2017-10-20 09:42:12--  https://archive.ics.uci.edu/ml/machine-learning-databases/00380/YouTube-Spam-Collection-v1.zip\n",
      "Resolving archive.ics.uci.edu (archive.ics.uci.edu)... 128.195.10.249\n",
      "Connecting to archive.ics.uci.edu (archive.ics.uci.edu)|128.195.10.249|:443... connected.\n",
      "HTTP request sent, awaiting response... 200 OK\n",
      "Length: 163567 (160K) [application/zip]\n",
      "Saving to: ‘YouTube-Spam-Collection-v1.zip’\n",
      "\n",
      "YouTube-Spam-Collec 100%[===================>] 159.73K   195KB/s    in 0.8s    \n",
      "\n",
      "2017-10-20 09:42:14 (195 KB/s) - ‘YouTube-Spam-Collection-v1.zip’ saved [163567/163567]\n",
      "\n"
     ]
    }
   ],
   "source": [
    "!wget https://archive.ics.uci.edu/ml/machine-learning-databases/00380/YouTube-Spam-Collection-v1.zip"
   ]
  },
  {
   "cell_type": "code",
   "execution_count": 7,
   "metadata": {
    "collapsed": false
   },
   "outputs": [
    {
     "name": "stdout",
     "output_type": "stream",
     "text": [
      "Archive:  YouTube-Spam-Collection-v1.zip\r\n",
      "  inflating: Youtube01-Psy.csv       \r\n",
      "   creating: __MACOSX/\r\n",
      "  inflating: __MACOSX/._Youtube01-Psy.csv  \r\n",
      "  inflating: Youtube02-KatyPerry.csv  \r\n",
      "  inflating: __MACOSX/._Youtube02-KatyPerry.csv  \r\n",
      "  inflating: Youtube03-LMFAO.csv     \r\n",
      "  inflating: __MACOSX/._Youtube03-LMFAO.csv  \r\n",
      "  inflating: Youtube04-Eminem.csv    \r\n",
      "  inflating: __MACOSX/._Youtube04-Eminem.csv  \r\n",
      "  inflating: Youtube05-Shakira.csv   \r\n",
      "  inflating: __MACOSX/._Youtube05-Shakira.csv  \r\n"
     ]
    }
   ],
   "source": [
    "!unzip YouTube-Spam-Collection-v1.zip"
   ]
  }
 ],
 "metadata": {
  "anaconda-cloud": {},
  "kernelspec": {
   "display_name": "Python [conda root]",
   "language": "python",
   "name": "conda-root-py"
  },
  "language_info": {
   "codemirror_mode": {
    "name": "ipython",
    "version": 2
   },
   "file_extension": ".py",
   "mimetype": "text/x-python",
   "name": "python",
   "nbconvert_exporter": "python",
   "pygments_lexer": "ipython2",
   "version": "2.7.12"
  }
 },
 "nbformat": 4,
 "nbformat_minor": 1
}
